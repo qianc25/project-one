{
  "nbformat": 4,
  "nbformat_minor": 0,
  "metadata": {
    "colab": {
      "name": "marketing_personalization.ipynb",
      "provenance": [],
      "collapsed_sections": [],
      "toc_visible": true
    },
    "kernelspec": {
      "name": "python3",
      "display_name": "Python 3"
    },
    "language_info": {
      "name": "python"
    }
  },
  "cells": [
    {
      "cell_type": "markdown",
      "metadata": {
        "id": "xRjxrWcvEvp-"
      },
      "source": [
        "# Personalization - A Data Example"
      ]
    },
    {
      "cell_type": "markdown",
      "metadata": {
        "id": "Q2hvCAlt3GnA"
      },
      "source": [
        "For this project, I am interested in using the email marketing data to answer the following questions:\n",
        "\n",
        "* How do user factors and email characteristics relate to email click-through rate (CTR)?\n",
        "\n",
        "* What combination of user and email characteristics does the data suggest to have the highest email click-through rate?\n",
        "\n",
        "* If we were to provide any insights on email campaign personalization for the marketing team, what can we propose based on the analysis results?\n",
        "\n"
      ]
    },
    {
      "cell_type": "markdown",
      "metadata": {
        "id": "9xGCMBAab1ZL"
      },
      "source": [
        "### Data Understanding and Preparation"
      ]
    },
    {
      "cell_type": "code",
      "metadata": {
        "colab": {
          "base_uri": "https://localhost:8080/",
          "height": 359
        },
        "id": "_2GykS-SEZ0B",
        "outputId": "78041d40-5f5d-44df-800c-1bc00119848a"
      },
      "source": [
        "# read in libraries and the dataset\n",
        "import pandas as pd\n",
        "import numpy as np\n",
        "import matplotlib.pyplot as plt\n",
        "import seaborn as sns\n",
        "from sklearn.model_selection import train_test_split\n",
        "from sklearn.ensemble import RandomForestClassifier\n",
        "from sklearn.metrics import confusion_matrix\n",
        "%matplotlib inline\n",
        "\n",
        "data = pd.read_csv('./data.csv')\n",
        "data.head(10)"
      ],
      "execution_count": 1,
      "outputs": [
        {
          "output_type": "execute_result",
          "data": {
            "text/html": [
              "<div>\n",
              "<style scoped>\n",
              "    .dataframe tbody tr th:only-of-type {\n",
              "        vertical-align: middle;\n",
              "    }\n",
              "\n",
              "    .dataframe tbody tr th {\n",
              "        vertical-align: top;\n",
              "    }\n",
              "\n",
              "    .dataframe thead th {\n",
              "        text-align: right;\n",
              "    }\n",
              "</style>\n",
              "<table border=\"1\" class=\"dataframe\">\n",
              "  <thead>\n",
              "    <tr style=\"text-align: right;\">\n",
              "      <th></th>\n",
              "      <th>email_id</th>\n",
              "      <th>email_text</th>\n",
              "      <th>email_version</th>\n",
              "      <th>hour</th>\n",
              "      <th>weekday</th>\n",
              "      <th>user_country</th>\n",
              "      <th>user_past_purchases</th>\n",
              "      <th>clicked</th>\n",
              "    </tr>\n",
              "  </thead>\n",
              "  <tbody>\n",
              "    <tr>\n",
              "      <th>0</th>\n",
              "      <td>8</td>\n",
              "      <td>short_email</td>\n",
              "      <td>generic</td>\n",
              "      <td>9</td>\n",
              "      <td>Thursday</td>\n",
              "      <td>US</td>\n",
              "      <td>3</td>\n",
              "      <td>0</td>\n",
              "    </tr>\n",
              "    <tr>\n",
              "      <th>1</th>\n",
              "      <td>33</td>\n",
              "      <td>long_email</td>\n",
              "      <td>personalized</td>\n",
              "      <td>6</td>\n",
              "      <td>Monday</td>\n",
              "      <td>US</td>\n",
              "      <td>0</td>\n",
              "      <td>0</td>\n",
              "    </tr>\n",
              "    <tr>\n",
              "      <th>2</th>\n",
              "      <td>46</td>\n",
              "      <td>short_email</td>\n",
              "      <td>generic</td>\n",
              "      <td>14</td>\n",
              "      <td>Tuesday</td>\n",
              "      <td>US</td>\n",
              "      <td>3</td>\n",
              "      <td>0</td>\n",
              "    </tr>\n",
              "    <tr>\n",
              "      <th>3</th>\n",
              "      <td>49</td>\n",
              "      <td>long_email</td>\n",
              "      <td>personalized</td>\n",
              "      <td>11</td>\n",
              "      <td>Thursday</td>\n",
              "      <td>US</td>\n",
              "      <td>10</td>\n",
              "      <td>0</td>\n",
              "    </tr>\n",
              "    <tr>\n",
              "      <th>4</th>\n",
              "      <td>65</td>\n",
              "      <td>short_email</td>\n",
              "      <td>generic</td>\n",
              "      <td>8</td>\n",
              "      <td>Wednesday</td>\n",
              "      <td>UK</td>\n",
              "      <td>3</td>\n",
              "      <td>0</td>\n",
              "    </tr>\n",
              "    <tr>\n",
              "      <th>5</th>\n",
              "      <td>66</td>\n",
              "      <td>long_email</td>\n",
              "      <td>generic</td>\n",
              "      <td>12</td>\n",
              "      <td>Wednesday</td>\n",
              "      <td>US</td>\n",
              "      <td>0</td>\n",
              "      <td>0</td>\n",
              "    </tr>\n",
              "    <tr>\n",
              "      <th>6</th>\n",
              "      <td>72</td>\n",
              "      <td>short_email</td>\n",
              "      <td>generic</td>\n",
              "      <td>4</td>\n",
              "      <td>Saturday</td>\n",
              "      <td>US</td>\n",
              "      <td>0</td>\n",
              "      <td>0</td>\n",
              "    </tr>\n",
              "    <tr>\n",
              "      <th>7</th>\n",
              "      <td>73</td>\n",
              "      <td>long_email</td>\n",
              "      <td>generic</td>\n",
              "      <td>18</td>\n",
              "      <td>Thursday</td>\n",
              "      <td>FR</td>\n",
              "      <td>5</td>\n",
              "      <td>0</td>\n",
              "    </tr>\n",
              "    <tr>\n",
              "      <th>8</th>\n",
              "      <td>82</td>\n",
              "      <td>long_email</td>\n",
              "      <td>personalized</td>\n",
              "      <td>17</td>\n",
              "      <td>Thursday</td>\n",
              "      <td>ES</td>\n",
              "      <td>0</td>\n",
              "      <td>0</td>\n",
              "    </tr>\n",
              "    <tr>\n",
              "      <th>9</th>\n",
              "      <td>114</td>\n",
              "      <td>short_email</td>\n",
              "      <td>personalized</td>\n",
              "      <td>5</td>\n",
              "      <td>Wednesday</td>\n",
              "      <td>US</td>\n",
              "      <td>2</td>\n",
              "      <td>0</td>\n",
              "    </tr>\n",
              "  </tbody>\n",
              "</table>\n",
              "</div>"
            ],
            "text/plain": [
              "   email_id   email_text  ... user_past_purchases  clicked\n",
              "0         8  short_email  ...                   3        0\n",
              "1        33   long_email  ...                   0        0\n",
              "2        46  short_email  ...                   3        0\n",
              "3        49   long_email  ...                  10        0\n",
              "4        65  short_email  ...                   3        0\n",
              "5        66   long_email  ...                   0        0\n",
              "6        72  short_email  ...                   0        0\n",
              "7        73   long_email  ...                   5        0\n",
              "8        82   long_email  ...                   0        0\n",
              "9       114  short_email  ...                   2        0\n",
              "\n",
              "[10 rows x 8 columns]"
            ]
          },
          "metadata": {},
          "execution_count": 1
        }
      ]
    },
    {
      "cell_type": "code",
      "metadata": {
        "id": "qzzIsQrXHivP",
        "colab": {
          "base_uri": "https://localhost:8080/"
        },
        "outputId": "9c737c52-7aad-4e34-dde6-5020d37d65e0"
      },
      "source": [
        "# take a look at some characteristics of the data\n",
        "data.shape"
      ],
      "execution_count": 2,
      "outputs": [
        {
          "output_type": "execute_result",
          "data": {
            "text/plain": [
              "(99950, 8)"
            ]
          },
          "metadata": {},
          "execution_count": 2
        }
      ]
    },
    {
      "cell_type": "code",
      "metadata": {
        "colab": {
          "base_uri": "https://localhost:8080/"
        },
        "id": "jSV5eUsK_X-q",
        "outputId": "0c40a79c-0461-418d-c675-f948ebef246e"
      },
      "source": [
        "data.dtypes"
      ],
      "execution_count": 3,
      "outputs": [
        {
          "output_type": "execute_result",
          "data": {
            "text/plain": [
              "email_id                int64\n",
              "email_text             object\n",
              "email_version          object\n",
              "hour                    int64\n",
              "weekday                object\n",
              "user_country           object\n",
              "user_past_purchases     int64\n",
              "clicked                 int64\n",
              "dtype: object"
            ]
          },
          "metadata": {},
          "execution_count": 3
        }
      ]
    },
    {
      "cell_type": "code",
      "metadata": {
        "colab": {
          "base_uri": "https://localhost:8080/",
          "height": 297
        },
        "id": "pkoCFcVQB0XC",
        "outputId": "eca8f882-d52e-4f75-bdc4-02b79070b5b9"
      },
      "source": [
        "data.describe() # for numeric variables only"
      ],
      "execution_count": 4,
      "outputs": [
        {
          "output_type": "execute_result",
          "data": {
            "text/html": [
              "<div>\n",
              "<style scoped>\n",
              "    .dataframe tbody tr th:only-of-type {\n",
              "        vertical-align: middle;\n",
              "    }\n",
              "\n",
              "    .dataframe tbody tr th {\n",
              "        vertical-align: top;\n",
              "    }\n",
              "\n",
              "    .dataframe thead th {\n",
              "        text-align: right;\n",
              "    }\n",
              "</style>\n",
              "<table border=\"1\" class=\"dataframe\">\n",
              "  <thead>\n",
              "    <tr style=\"text-align: right;\">\n",
              "      <th></th>\n",
              "      <th>email_id</th>\n",
              "      <th>hour</th>\n",
              "      <th>user_past_purchases</th>\n",
              "      <th>clicked</th>\n",
              "    </tr>\n",
              "  </thead>\n",
              "  <tbody>\n",
              "    <tr>\n",
              "      <th>count</th>\n",
              "      <td>99950.000000</td>\n",
              "      <td>99950.000000</td>\n",
              "      <td>99950.000000</td>\n",
              "      <td>99950.00000</td>\n",
              "    </tr>\n",
              "    <tr>\n",
              "      <th>mean</th>\n",
              "      <td>498695.729065</td>\n",
              "      <td>9.059100</td>\n",
              "      <td>3.878559</td>\n",
              "      <td>0.02070</td>\n",
              "    </tr>\n",
              "    <tr>\n",
              "      <th>std</th>\n",
              "      <td>289226.115244</td>\n",
              "      <td>4.439618</td>\n",
              "      <td>3.196324</td>\n",
              "      <td>0.14238</td>\n",
              "    </tr>\n",
              "    <tr>\n",
              "      <th>min</th>\n",
              "      <td>8.000000</td>\n",
              "      <td>1.000000</td>\n",
              "      <td>0.000000</td>\n",
              "      <td>0.00000</td>\n",
              "    </tr>\n",
              "    <tr>\n",
              "      <th>25%</th>\n",
              "      <td>246721.500000</td>\n",
              "      <td>6.000000</td>\n",
              "      <td>1.000000</td>\n",
              "      <td>0.00000</td>\n",
              "    </tr>\n",
              "    <tr>\n",
              "      <th>50%</th>\n",
              "      <td>498441.500000</td>\n",
              "      <td>9.000000</td>\n",
              "      <td>3.000000</td>\n",
              "      <td>0.00000</td>\n",
              "    </tr>\n",
              "    <tr>\n",
              "      <th>75%</th>\n",
              "      <td>749936.750000</td>\n",
              "      <td>12.000000</td>\n",
              "      <td>6.000000</td>\n",
              "      <td>0.00000</td>\n",
              "    </tr>\n",
              "    <tr>\n",
              "      <th>max</th>\n",
              "      <td>999998.000000</td>\n",
              "      <td>24.000000</td>\n",
              "      <td>22.000000</td>\n",
              "      <td>1.00000</td>\n",
              "    </tr>\n",
              "  </tbody>\n",
              "</table>\n",
              "</div>"
            ],
            "text/plain": [
              "            email_id          hour  user_past_purchases      clicked\n",
              "count   99950.000000  99950.000000         99950.000000  99950.00000\n",
              "mean   498695.729065      9.059100             3.878559      0.02070\n",
              "std    289226.115244      4.439618             3.196324      0.14238\n",
              "min         8.000000      1.000000             0.000000      0.00000\n",
              "25%    246721.500000      6.000000             1.000000      0.00000\n",
              "50%    498441.500000      9.000000             3.000000      0.00000\n",
              "75%    749936.750000     12.000000             6.000000      0.00000\n",
              "max    999998.000000     24.000000            22.000000      1.00000"
            ]
          },
          "metadata": {},
          "execution_count": 4
        }
      ]
    },
    {
      "cell_type": "code",
      "metadata": {
        "colab": {
          "base_uri": "https://localhost:8080/"
        },
        "id": "TKt2m1qhAM3F",
        "outputId": "88b719eb-4885-4c96-bb8f-42a40dacd051"
      },
      "source": [
        "data.isnull().mean() # looks like this dataset does not contain any missing values - hooray!"
      ],
      "execution_count": 5,
      "outputs": [
        {
          "output_type": "execute_result",
          "data": {
            "text/plain": [
              "email_id               0.0\n",
              "email_text             0.0\n",
              "email_version          0.0\n",
              "hour                   0.0\n",
              "weekday                0.0\n",
              "user_country           0.0\n",
              "user_past_purchases    0.0\n",
              "clicked                0.0\n",
              "dtype: float64"
            ]
          },
          "metadata": {},
          "execution_count": 5
        }
      ]
    },
    {
      "cell_type": "markdown",
      "metadata": {
        "id": "JcyENZREjVQT"
      },
      "source": [
        "Now let's prepare the data for modeling"
      ]
    },
    {
      "cell_type": "code",
      "metadata": {
        "id": "UTDPkqGOfHML"
      },
      "source": [
        "# email id is a unique identifier of the email and will not be useful in our prediction model\n",
        "data = data.drop(labels='email_id',axis = 1)\n",
        "\n",
        "# need to dummy code the categorical variables first \n",
        "# so that we can use them in our machine learning models\n",
        "data_dummy = pd.get_dummies(data,drop_first=True)"
      ],
      "execution_count": 6,
      "outputs": []
    },
    {
      "cell_type": "code",
      "metadata": {
        "colab": {
          "base_uri": "https://localhost:8080/",
          "height": 379
        },
        "id": "-TnjiDjHhx56",
        "outputId": "7df60eb5-e9fe-4c91-b985-1044152d4c36"
      },
      "source": [
        "# take a quick look at the processed daraframe before moving forward to the next stage\n",
        "data_dummy.head(10)"
      ],
      "execution_count": 7,
      "outputs": [
        {
          "output_type": "execute_result",
          "data": {
            "text/html": [
              "<div>\n",
              "<style scoped>\n",
              "    .dataframe tbody tr th:only-of-type {\n",
              "        vertical-align: middle;\n",
              "    }\n",
              "\n",
              "    .dataframe tbody tr th {\n",
              "        vertical-align: top;\n",
              "    }\n",
              "\n",
              "    .dataframe thead th {\n",
              "        text-align: right;\n",
              "    }\n",
              "</style>\n",
              "<table border=\"1\" class=\"dataframe\">\n",
              "  <thead>\n",
              "    <tr style=\"text-align: right;\">\n",
              "      <th></th>\n",
              "      <th>hour</th>\n",
              "      <th>user_past_purchases</th>\n",
              "      <th>clicked</th>\n",
              "      <th>email_text_short_email</th>\n",
              "      <th>email_version_personalized</th>\n",
              "      <th>weekday_Monday</th>\n",
              "      <th>weekday_Saturday</th>\n",
              "      <th>weekday_Sunday</th>\n",
              "      <th>weekday_Thursday</th>\n",
              "      <th>weekday_Tuesday</th>\n",
              "      <th>weekday_Wednesday</th>\n",
              "      <th>user_country_FR</th>\n",
              "      <th>user_country_UK</th>\n",
              "      <th>user_country_US</th>\n",
              "    </tr>\n",
              "  </thead>\n",
              "  <tbody>\n",
              "    <tr>\n",
              "      <th>0</th>\n",
              "      <td>9</td>\n",
              "      <td>3</td>\n",
              "      <td>0</td>\n",
              "      <td>1</td>\n",
              "      <td>0</td>\n",
              "      <td>0</td>\n",
              "      <td>0</td>\n",
              "      <td>0</td>\n",
              "      <td>1</td>\n",
              "      <td>0</td>\n",
              "      <td>0</td>\n",
              "      <td>0</td>\n",
              "      <td>0</td>\n",
              "      <td>1</td>\n",
              "    </tr>\n",
              "    <tr>\n",
              "      <th>1</th>\n",
              "      <td>6</td>\n",
              "      <td>0</td>\n",
              "      <td>0</td>\n",
              "      <td>0</td>\n",
              "      <td>1</td>\n",
              "      <td>1</td>\n",
              "      <td>0</td>\n",
              "      <td>0</td>\n",
              "      <td>0</td>\n",
              "      <td>0</td>\n",
              "      <td>0</td>\n",
              "      <td>0</td>\n",
              "      <td>0</td>\n",
              "      <td>1</td>\n",
              "    </tr>\n",
              "    <tr>\n",
              "      <th>2</th>\n",
              "      <td>14</td>\n",
              "      <td>3</td>\n",
              "      <td>0</td>\n",
              "      <td>1</td>\n",
              "      <td>0</td>\n",
              "      <td>0</td>\n",
              "      <td>0</td>\n",
              "      <td>0</td>\n",
              "      <td>0</td>\n",
              "      <td>1</td>\n",
              "      <td>0</td>\n",
              "      <td>0</td>\n",
              "      <td>0</td>\n",
              "      <td>1</td>\n",
              "    </tr>\n",
              "    <tr>\n",
              "      <th>3</th>\n",
              "      <td>11</td>\n",
              "      <td>10</td>\n",
              "      <td>0</td>\n",
              "      <td>0</td>\n",
              "      <td>1</td>\n",
              "      <td>0</td>\n",
              "      <td>0</td>\n",
              "      <td>0</td>\n",
              "      <td>1</td>\n",
              "      <td>0</td>\n",
              "      <td>0</td>\n",
              "      <td>0</td>\n",
              "      <td>0</td>\n",
              "      <td>1</td>\n",
              "    </tr>\n",
              "    <tr>\n",
              "      <th>4</th>\n",
              "      <td>8</td>\n",
              "      <td>3</td>\n",
              "      <td>0</td>\n",
              "      <td>1</td>\n",
              "      <td>0</td>\n",
              "      <td>0</td>\n",
              "      <td>0</td>\n",
              "      <td>0</td>\n",
              "      <td>0</td>\n",
              "      <td>0</td>\n",
              "      <td>1</td>\n",
              "      <td>0</td>\n",
              "      <td>1</td>\n",
              "      <td>0</td>\n",
              "    </tr>\n",
              "    <tr>\n",
              "      <th>5</th>\n",
              "      <td>12</td>\n",
              "      <td>0</td>\n",
              "      <td>0</td>\n",
              "      <td>0</td>\n",
              "      <td>0</td>\n",
              "      <td>0</td>\n",
              "      <td>0</td>\n",
              "      <td>0</td>\n",
              "      <td>0</td>\n",
              "      <td>0</td>\n",
              "      <td>1</td>\n",
              "      <td>0</td>\n",
              "      <td>0</td>\n",
              "      <td>1</td>\n",
              "    </tr>\n",
              "    <tr>\n",
              "      <th>6</th>\n",
              "      <td>4</td>\n",
              "      <td>0</td>\n",
              "      <td>0</td>\n",
              "      <td>1</td>\n",
              "      <td>0</td>\n",
              "      <td>0</td>\n",
              "      <td>1</td>\n",
              "      <td>0</td>\n",
              "      <td>0</td>\n",
              "      <td>0</td>\n",
              "      <td>0</td>\n",
              "      <td>0</td>\n",
              "      <td>0</td>\n",
              "      <td>1</td>\n",
              "    </tr>\n",
              "    <tr>\n",
              "      <th>7</th>\n",
              "      <td>18</td>\n",
              "      <td>5</td>\n",
              "      <td>0</td>\n",
              "      <td>0</td>\n",
              "      <td>0</td>\n",
              "      <td>0</td>\n",
              "      <td>0</td>\n",
              "      <td>0</td>\n",
              "      <td>1</td>\n",
              "      <td>0</td>\n",
              "      <td>0</td>\n",
              "      <td>1</td>\n",
              "      <td>0</td>\n",
              "      <td>0</td>\n",
              "    </tr>\n",
              "    <tr>\n",
              "      <th>8</th>\n",
              "      <td>17</td>\n",
              "      <td>0</td>\n",
              "      <td>0</td>\n",
              "      <td>0</td>\n",
              "      <td>1</td>\n",
              "      <td>0</td>\n",
              "      <td>0</td>\n",
              "      <td>0</td>\n",
              "      <td>1</td>\n",
              "      <td>0</td>\n",
              "      <td>0</td>\n",
              "      <td>0</td>\n",
              "      <td>0</td>\n",
              "      <td>0</td>\n",
              "    </tr>\n",
              "    <tr>\n",
              "      <th>9</th>\n",
              "      <td>5</td>\n",
              "      <td>2</td>\n",
              "      <td>0</td>\n",
              "      <td>1</td>\n",
              "      <td>1</td>\n",
              "      <td>0</td>\n",
              "      <td>0</td>\n",
              "      <td>0</td>\n",
              "      <td>0</td>\n",
              "      <td>0</td>\n",
              "      <td>1</td>\n",
              "      <td>0</td>\n",
              "      <td>0</td>\n",
              "      <td>1</td>\n",
              "    </tr>\n",
              "  </tbody>\n",
              "</table>\n",
              "</div>"
            ],
            "text/plain": [
              "   hour  user_past_purchases  ...  user_country_UK  user_country_US\n",
              "0     9                    3  ...                0                1\n",
              "1     6                    0  ...                0                1\n",
              "2    14                    3  ...                0                1\n",
              "3    11                   10  ...                0                1\n",
              "4     8                    3  ...                1                0\n",
              "5    12                    0  ...                0                1\n",
              "6     4                    0  ...                0                1\n",
              "7    18                    5  ...                0                0\n",
              "8    17                    0  ...                0                0\n",
              "9     5                    2  ...                0                1\n",
              "\n",
              "[10 rows x 14 columns]"
            ]
          },
          "metadata": {},
          "execution_count": 7
        }
      ]
    },
    {
      "cell_type": "markdown",
      "metadata": {
        "id": "3JACyFOXbsIt"
      },
      "source": [
        "### Modeling and Analysis"
      ]
    },
    {
      "cell_type": "markdown",
      "metadata": {
        "id": "jypzveX0ka3R"
      },
      "source": [
        "To answer the first and the second questions, our outcome variable of interest is the binary variable *clicked*, which tells whether or not the marketing emails they've sent have been clicked through by the user for at least once (1/0).\n",
        "\n",
        "In order to understand whether any factors about the user or the email contributed to the chance of the marketing message being clicked through, we will divide the data by these variables and take a look at the group-specific CTRs. "
      ]
    },
    {
      "cell_type": "code",
      "metadata": {
        "colab": {
          "base_uri": "https://localhost:8080/",
          "height": 265
        },
        "id": "EA9Yp_EahwzI",
        "outputId": "16b8b377-00ad-488d-fd3d-c7fd57a8f532"
      },
      "source": [
        "# by length of text (long vs. short)\n",
        "groupby_t = data.groupby(['email_text']).mean()['clicked'].sort_values()\n",
        "groupby_t.plot(kind = 'barh');"
      ],
      "execution_count": 18,
      "outputs": [
        {
          "output_type": "display_data",
          "data": {
            "image/png": "[encoded data removed]",
            "text/plain": [
              "<Figure size 432x288 with 1 Axes>"
            ]
          },
          "metadata": {
            "needs_background": "light"
          }
        }
      ]
    },
    {
      "cell_type": "code",
      "metadata": {
        "colab": {
          "base_uri": "https://localhost:8080/",
          "height": 265
        },
        "id": "X6lIKN31iN3z",
        "outputId": "85fc096a-fc54-43c4-9946-511765f349c6"
      },
      "source": [
        "# by email version (personalized vs. generic)\n",
        "groupby_ver = data.groupby(['email_version']).mean()['clicked'].sort_values()\n",
        "groupby_ver.plot(kind = 'barh');"
      ],
      "execution_count": 15,
      "outputs": [
        {
          "output_type": "display_data",
          "data": {
            "image/png": "[encoded data removed]",
            "text/plain": [
              "<Figure size 432x288 with 1 Axes>"
            ]
          },
          "metadata": {
            "needs_background": "light"
          }
        }
      ]
    },
    {
      "cell_type": "code",
      "metadata": {
        "colab": {
          "base_uri": "https://localhost:8080/",
          "height": 298
        },
        "id": "Qr8HqBtwbJ7P",
        "outputId": "f7ba5da2-4944-4969-df9c-3864dad65ee8"
      },
      "source": [
        "# by hour of the day that the email was sent (user local time)\n",
        "groupby_h = data.groupby(['hour']).mean()['clicked'].sort_values()\n",
        "groupby_h.plot(kind='bar',title= 'CTR by time of email sent out'); \n",
        "# looking at the time alone, emails that were sent at 11PM appears to have received the most attention from users"
      ],
      "execution_count": 17,
      "outputs": [
        {
          "output_type": "display_data",
          "data": {
            "image/png": "[encoded data removed]",
            "text/plain": [
              "<Figure size 432x288 with 1 Axes>"
            ]
          },
          "metadata": {
            "needs_background": "light"
          }
        }
      ]
    },
    {
      "cell_type": "code",
      "metadata": {
        "id": "VeTeiaixXCT8",
        "colab": {
          "base_uri": "https://localhost:8080/",
          "height": 343
        },
        "outputId": "c4db7b7f-e583-46d0-964e-26041ccd97f3"
      },
      "source": [
        "# by day of the week\n",
        "groupby_w = data.groupby(['weekday']).mean()['clicked'].sort_values()\n",
        "groupby_w.plot(kind='bar',title= 'CTR by Day of Week');"
      ],
      "execution_count": 19,
      "outputs": [
        {
          "output_type": "display_data",
          "data": {
            "image/png": "[encoded data removed]",
            "text/plain": [
              "<Figure size 432x288 with 1 Axes>"
            ]
          },
          "metadata": {
            "needs_background": "light"
          }
        }
      ]
    },
    {
      "cell_type": "code",
      "metadata": {
        "id": "X0rWrH33JWBD"
      },
      "source": [
        "# combine the day and time\n",
        "clicked_by_weekday_hour = pd.concat([pd.DataFrame(data[data['weekday']==i].groupby(['hour']).mean()['clicked']) for i in ['Monday','Tuesday','Wednesday','Thursday','Friday', 'Saturday','Sunday']],axis = 1)\n",
        "clicked_by_weekday_hour.columns = ['Monday','Tuesday','Wednesday','Thursday','Friday', 'Saturday','Sunday']"
      ],
      "execution_count": 20,
      "outputs": []
    },
    {
      "cell_type": "code",
      "metadata": {
        "id": "SCmDQ_eYXoFW",
        "colab": {
          "base_uri": "https://localhost:8080/",
          "height": 295
        },
        "outputId": "3f2904f6-d35e-41fe-d086-f6e12511e997"
      },
      "source": [
        "pd.set_option('display.max_columns', 20)\n",
        "pd.set_option('display.width', 350)\n",
        "clicked_by_weekday_hour.plot(xlabel = 'hour the email was sent',ylabel = 'CTR',title = 'CTR by day and hour',x_compat=True);"
      ],
      "execution_count": 21,
      "outputs": [
        {
          "output_type": "display_data",
          "data": {
            "image/png": "[encoded data removed]",
            "text/plain": [
              "<Figure size 432x288 with 1 Axes>"
            ]
          },
          "metadata": {
            "needs_background": "light"
          }
        }
      ]
    },
    {
      "cell_type": "code",
      "metadata": {
        "id": "y1q5M0tBbhLa",
        "colab": {
          "base_uri": "https://localhost:8080/"
        },
        "outputId": "beb9e56e-6887-4f66-f81c-10f277fa2588"
      },
      "source": [
        "groupby_wh = data.groupby(['weekday','hour']).mean()['clicked'].sort_values(ascending = False)\n",
        "groupby_wh.head(20)"
      ],
      "execution_count": 22,
      "outputs": [
        {
          "output_type": "execute_result",
          "data": {
            "text/plain": [
              "weekday    hour\n",
              "Saturday   24      0.125000\n",
              "Tuesday    24      0.111111\n",
              "Sunday     23      0.095238\n",
              "Monday     23      0.068966\n",
              "Wednesday  23      0.050000\n",
              "           10      0.045336\n",
              "Monday     22      0.043478\n",
              "Saturday   23      0.043478\n",
              "Wednesday  11      0.041284\n",
              "Saturday   20      0.040000\n",
              "Thursday   12      0.038031\n",
              "Friday     21      0.037736\n",
              "Tuesday    10      0.035714\n",
              "           15      0.035343\n",
              "Monday     11      0.034799\n",
              "Tuesday    9       0.034705\n",
              "Wednesday  9       0.034061\n",
              "Saturday   22      0.033333\n",
              "Wednesday  17      0.033088\n",
              "Monday     16      0.032432\n",
              "Name: clicked, dtype: float64"
            ]
          },
          "metadata": {},
          "execution_count": 22
        }
      ]
    },
    {
      "cell_type": "code",
      "metadata": {
        "id": "11TubD4HcsgL",
        "colab": {
          "base_uri": "https://localhost:8080/"
        },
        "outputId": "16375f96-f28c-4ef4-be74-b25681b27be5"
      },
      "source": [
        "# by country where the user is located\n",
        "groupby_c = data.groupby(['user_country']).mean()['clicked'].sort_values()\n",
        "groupby_c.head()"
      ],
      "execution_count": 23,
      "outputs": [
        {
          "output_type": "execute_result",
          "data": {
            "text/plain": [
              "user_country\n",
              "FR    0.007408\n",
              "ES    0.008029\n",
              "US    0.023873\n",
              "UK    0.024137\n",
              "Name: clicked, dtype: float64"
            ]
          },
          "metadata": {},
          "execution_count": 23
        }
      ]
    },
    {
      "cell_type": "code",
      "metadata": {
        "colab": {
          "base_uri": "https://localhost:8080/",
          "height": 281
        },
        "id": "CuiLgjr0csn6",
        "outputId": "b0e3b850-b4ac-42e1-8f40-beadd910cafb"
      },
      "source": [
        "groupby_c.plot(kind='barh',title= 'CTR by Country of the user');"
      ],
      "execution_count": 25,
      "outputs": [
        {
          "output_type": "display_data",
          "data": {
            "image/png": "[encoded data removed]",
            "text/plain": [
              "<Figure size 432x288 with 1 Axes>"
            ]
          },
          "metadata": {
            "needs_background": "light"
          }
        }
      ]
    },
    {
      "cell_type": "code",
      "metadata": {
        "id": "-5l8lujLdBfY",
        "colab": {
          "base_uri": "https://localhost:8080/"
        },
        "outputId": "f3727760-eb9e-4530-c16f-d4798a0dc4dd"
      },
      "source": [
        "# by amount of past purchases\n",
        "groupby_p = data.groupby(['user_past_purchases']).mean()['clicked'].sort_values(ascending=True)\n",
        "groupby_p.tail(5)"
      ],
      "execution_count": 30,
      "outputs": [
        {
          "output_type": "execute_result",
          "data": {
            "text/plain": [
              "user_past_purchases\n",
              "15    0.117021\n",
              "16    0.117647\n",
              "19    0.200000\n",
              "21    0.500000\n",
              "22    1.000000\n",
              "Name: clicked, dtype: float64"
            ]
          },
          "metadata": {},
          "execution_count": 30
        }
      ]
    },
    {
      "cell_type": "code",
      "metadata": {
        "colab": {
          "base_uri": "https://localhost:8080/",
          "height": 299
        },
        "id": "ZO_ba8CndHuE",
        "outputId": "ae42d1c1-87b3-4417-b2e6-af381dbac535"
      },
      "source": [
        "groupby_p.plot(kind='bar',title= 'CTR by past purchase');"
      ],
      "execution_count": 28,
      "outputs": [
        {
          "output_type": "display_data",
          "data": {
            "image/png": "[encoded data removed]",
            "text/plain": [
              "<Figure size 432x288 with 1 Axes>"
            ]
          },
          "metadata": {
            "needs_background": "light"
          }
        }
      ]
    },
    {
      "cell_type": "code",
      "metadata": {
        "id": "6Y9QbK8EIp80"
      },
      "source": [
        ""
      ],
      "execution_count": null,
      "outputs": []
    },
    {
      "cell_type": "markdown",
      "metadata": {
        "id": "s6XGhvmbpLF2"
      },
      "source": [
        "To answer the second question, let's train a classification model to predict the marketing email click-through outcomes for any unique combination of user and email factors.  \n",
        "\n",
        "Before building the model, we will want to split the data into training and test sets to make sure we are not building models that overfit the data and do not generalize well to new situations. The [train_test_split](https://scikit-learn.org/stable/modules/generated/sklearn.model_selection.train_test_split.html) method from scikit-learn comes very handy for completing this step. "
      ]
    },
    {
      "cell_type": "code",
      "metadata": {
        "id": "BkQWyZgwtdfG"
      },
      "source": [
        "np.random.seed(1) # to be able to reproduce results"
      ],
      "execution_count": 31,
      "outputs": []
    },
    {
      "cell_type": "code",
      "metadata": {
        "colab": {
          "base_uri": "https://localhost:8080/"
        },
        "id": "l4U7O0aEpy7G",
        "outputId": "167c8af4-5b63-47b8-851c-cede22142ade"
      },
      "source": [
        "train, test = train_test_split(data_dummy, test_size = 0.33)\n",
        "\n",
        "#Random Forest method is chosen to solve this classification problem. \n",
        "# It is particularly useful in reducing the chance of overfitting. \n",
        "model = RandomForestClassifier(class_weight={0:0.05,1:0.95}, n_estimators=50, oob_score=True)\n",
        "model.fit(train.drop('clicked', axis=1), train['clicked']) # may take a few seconds to run"
      ],
      "execution_count": 32,
      "outputs": [
        {
          "output_type": "stream",
          "name": "stderr",
          "text": [
            "/usr/local/lib/python3.7/dist-packages/sklearn/base.py:446: UserWarning: X does not have valid feature names, but RandomForestClassifier was fitted with feature names\n",
            "  \"X does not have valid feature names, but\"\n"
          ]
        },
        {
          "output_type": "execute_result",
          "data": {
            "text/plain": [
              "RandomForestClassifier(class_weight={0: 0.05, 1: 0.95}, n_estimators=50,\n",
              "                       oob_score=True)"
            ]
          },
          "metadata": {},
          "execution_count": 32
        }
      ]
    },
    {
      "cell_type": "code",
      "metadata": {
        "colab": {
          "base_uri": "https://localhost:8080/",
          "height": 111
        },
        "id": "0EKFnaK8py_O",
        "outputId": "5c5b95d2-9e76-44cb-e75e-3fd3c0fa1421"
      },
      "source": [
        "# to assess how well our prediction matches the truth, \n",
        "# we can take a look at the test set confusion matrix\n",
        "y_test = test['clicked']\n",
        "y_pred = model.predict(test.drop('clicked', axis=1)) # use the fitted model to predict label for the test set\n",
        "pd.DataFrame(confusion_matrix(y_test,y_pred)) # print the test set confusion matrix"
      ],
      "execution_count": 34,
      "outputs": [
        {
          "output_type": "execute_result",
          "data": {
            "text/html": [
              "<div>\n",
              "<style scoped>\n",
              "    .dataframe tbody tr th:only-of-type {\n",
              "        vertical-align: middle;\n",
              "    }\n",
              "\n",
              "    .dataframe tbody tr th {\n",
              "        vertical-align: top;\n",
              "    }\n",
              "\n",
              "    .dataframe thead th {\n",
              "        text-align: right;\n",
              "    }\n",
              "</style>\n",
              "<table border=\"1\" class=\"dataframe\">\n",
              "  <thead>\n",
              "    <tr style=\"text-align: right;\">\n",
              "      <th></th>\n",
              "      <th>0</th>\n",
              "      <th>1</th>\n",
              "    </tr>\n",
              "  </thead>\n",
              "  <tbody>\n",
              "    <tr>\n",
              "      <th>0</th>\n",
              "      <td>30652</td>\n",
              "      <td>1654</td>\n",
              "    </tr>\n",
              "    <tr>\n",
              "      <th>1</th>\n",
              "      <td>603</td>\n",
              "      <td>75</td>\n",
              "    </tr>\n",
              "  </tbody>\n",
              "</table>\n",
              "</div>"
            ],
            "text/plain": [
              "       0     1\n",
              "0  30652  1654\n",
              "1    603    75"
            ]
          },
          "metadata": {},
          "execution_count": 34
        }
      ]
    },
    {
      "cell_type": "markdown",
      "metadata": {
        "id": "Lh-6VlL_MEgC"
      },
      "source": [
        "Our model managed to correctly predict around 11% (75/678) of the *clicked*. This may seem pretty low, but it is a fairly acceptable result as in real world we often do not get perfect prediction. With that being said, there're certainly ways to improve this result, for example, by tweaking the model parameters."
      ]
    },
    {
      "cell_type": "code",
      "metadata": {
        "id": "hGmoSFUbp2nB"
      },
      "source": [
        "# we only have a very small proportion (~2%) of clicks among all data points\n",
        "# data_dummy['clicked'].mean()"
      ],
      "execution_count": 35,
      "outputs": []
    },
    {
      "cell_type": "markdown",
      "metadata": {
        "id": "md5VwLBC9oq1"
      },
      "source": [
        "The next step will be to, with the model we just built, estimate the probability of being clicked for each unique combination of the user and email characteristics. \n",
        "\n",
        "I would be curious to know what combination of user country, number of past purchase, length of text, version, and day and time gives us the best CTR among all."
      ]
    },
    {
      "cell_type": "code",
      "metadata": {
        "id": "HLgA0YnNAsGt"
      },
      "source": [
        "data_comb = data_dummy.drop(['clicked'],axis = 1).drop_duplicates() # keep all unique combinations of characteristic variables\n",
        "#data_comb.head()"
      ],
      "execution_count": null,
      "outputs": []
    },
    {
      "cell_type": "code",
      "metadata": {
        "id": "1Tu-3tRgAyse"
      },
      "source": [
        "y_comb = model.predict_proba(data_comb) \n",
        "# this estimates the probabilities of getting a label of 0/1 for each row\n",
        "\n",
        "data_comb['pred_clicked'] = [x[1] for x in y_comb]"
      ],
      "execution_count": 38,
      "outputs": []
    },
    {
      "cell_type": "code",
      "metadata": {
        "colab": {
          "base_uri": "https://localhost:8080/",
          "height": 224
        },
        "id": "u_GCxuc6pv4i",
        "outputId": "8785e8b3-e739-43ce-ba5b-7fe2c1c07b1a"
      },
      "source": [
        "# now let's take a look at the combinations of user and email characteristics \n",
        "# ordered by their predicted probability of clicked-through in descending order (from best to worst)\n",
        "data_comb = data_comb.sort_values(by=['pred_clicked'],ascending=False)\n",
        "data_comb.head()"
      ],
      "execution_count": 40,
      "outputs": [
        {
          "output_type": "execute_result",
          "data": {
            "text/html": [
              "<div>\n",
              "<style scoped>\n",
              "    .dataframe tbody tr th:only-of-type {\n",
              "        vertical-align: middle;\n",
              "    }\n",
              "\n",
              "    .dataframe tbody tr th {\n",
              "        vertical-align: top;\n",
              "    }\n",
              "\n",
              "    .dataframe thead th {\n",
              "        text-align: right;\n",
              "    }\n",
              "</style>\n",
              "<table border=\"1\" class=\"dataframe\">\n",
              "  <thead>\n",
              "    <tr style=\"text-align: right;\">\n",
              "      <th></th>\n",
              "      <th>hour</th>\n",
              "      <th>user_past_purchases</th>\n",
              "      <th>email_text_short_email</th>\n",
              "      <th>email_version_personalized</th>\n",
              "      <th>weekday_Monday</th>\n",
              "      <th>weekday_Saturday</th>\n",
              "      <th>weekday_Sunday</th>\n",
              "      <th>weekday_Thursday</th>\n",
              "      <th>weekday_Tuesday</th>\n",
              "      <th>weekday_Wednesday</th>\n",
              "      <th>user_country_FR</th>\n",
              "      <th>user_country_UK</th>\n",
              "      <th>user_country_US</th>\n",
              "      <th>pred_clicked</th>\n",
              "    </tr>\n",
              "  </thead>\n",
              "  <tbody>\n",
              "    <tr>\n",
              "      <th>14399</th>\n",
              "      <td>12</td>\n",
              "      <td>9</td>\n",
              "      <td>1</td>\n",
              "      <td>1</td>\n",
              "      <td>0</td>\n",
              "      <td>1</td>\n",
              "      <td>0</td>\n",
              "      <td>0</td>\n",
              "      <td>0</td>\n",
              "      <td>0</td>\n",
              "      <td>0</td>\n",
              "      <td>0</td>\n",
              "      <td>1</td>\n",
              "      <td>0.951077</td>\n",
              "    </tr>\n",
              "    <tr>\n",
              "      <th>57768</th>\n",
              "      <td>4</td>\n",
              "      <td>11</td>\n",
              "      <td>0</td>\n",
              "      <td>1</td>\n",
              "      <td>0</td>\n",
              "      <td>0</td>\n",
              "      <td>0</td>\n",
              "      <td>0</td>\n",
              "      <td>0</td>\n",
              "      <td>1</td>\n",
              "      <td>0</td>\n",
              "      <td>0</td>\n",
              "      <td>1</td>\n",
              "      <td>0.946538</td>\n",
              "    </tr>\n",
              "    <tr>\n",
              "      <th>8548</th>\n",
              "      <td>9</td>\n",
              "      <td>10</td>\n",
              "      <td>1</td>\n",
              "      <td>1</td>\n",
              "      <td>0</td>\n",
              "      <td>0</td>\n",
              "      <td>0</td>\n",
              "      <td>0</td>\n",
              "      <td>1</td>\n",
              "      <td>0</td>\n",
              "      <td>0</td>\n",
              "      <td>0</td>\n",
              "      <td>1</td>\n",
              "      <td>0.946121</td>\n",
              "    </tr>\n",
              "    <tr>\n",
              "      <th>3964</th>\n",
              "      <td>8</td>\n",
              "      <td>8</td>\n",
              "      <td>1</td>\n",
              "      <td>0</td>\n",
              "      <td>0</td>\n",
              "      <td>0</td>\n",
              "      <td>0</td>\n",
              "      <td>0</td>\n",
              "      <td>1</td>\n",
              "      <td>0</td>\n",
              "      <td>0</td>\n",
              "      <td>1</td>\n",
              "      <td>0</td>\n",
              "      <td>0.940000</td>\n",
              "    </tr>\n",
              "    <tr>\n",
              "      <th>3379</th>\n",
              "      <td>4</td>\n",
              "      <td>15</td>\n",
              "      <td>1</td>\n",
              "      <td>0</td>\n",
              "      <td>1</td>\n",
              "      <td>0</td>\n",
              "      <td>0</td>\n",
              "      <td>0</td>\n",
              "      <td>0</td>\n",
              "      <td>0</td>\n",
              "      <td>0</td>\n",
              "      <td>0</td>\n",
              "      <td>1</td>\n",
              "      <td>0.900000</td>\n",
              "    </tr>\n",
              "  </tbody>\n",
              "</table>\n",
              "</div>"
            ],
            "text/plain": [
              "       hour  user_past_purchases  email_text_short_email  email_version_personalized  weekday_Monday  weekday_Saturday  weekday_Sunday  weekday_Thursday  weekday_Tuesday  weekday_Wednesday  user_country_FR  user_country_UK  user_country_US  pred_clicked\n",
              "14399    12                    9                       1                           1               0                 1               0                 0                0                  0                0                0                1      0.951077\n",
              "57768     4                   11                       0                           1               0                 0               0                 0                0                  1                0                0                1      0.946538\n",
              "8548      9                   10                       1                           1               0                 0               0                 0                1                  0                0                0                1      0.946121\n",
              "3964      8                    8                       1                           0               0                 0               0                 0                1                  0                0                1                0      0.940000\n",
              "3379      4                   15                       1                           0               1                 0               0                 0                0                  0                0                0                1      0.900000"
            ]
          },
          "metadata": {},
          "execution_count": 40
        }
      ]
    },
    {
      "cell_type": "markdown",
      "metadata": {
        "id": "4hGhPjSZZ-kj"
      },
      "source": [
        "According to the output, a short (<=3 paragraphs) and personalized email sent on Saturday at 12pm to US customers who have bought 9 items would have the highest chance of being clicked (~95.1%). We can interpret all other combinations in a similar manner. For example, the model predicts that a long (>3 paragraph) and personalized email sent on Wednesday at 4am to US customers who have purchased 11 items has a 94.7% probability of being clicked. "
      ]
    },
    {
      "cell_type": "code",
      "metadata": {
        "id": "BIeh7TNZBUyp"
      },
      "source": [
        ""
      ],
      "execution_count": null,
      "outputs": []
    },
    {
      "cell_type": "markdown",
      "metadata": {
        "id": "t1FinSEhImmu"
      },
      "source": [
        "Lastly, it's our turn to provide insights on email campaign personalization for the marketing team - we will take one step further and identify the non-user characteristics (i.e. factors about the email that we can manipulate) that maximize the chance of being clicked for each user group."
      ]
    },
    {
      "cell_type": "code",
      "metadata": {
        "id": "DDydg6QEsIJF"
      },
      "source": [
        "# first divide the # of purchase variable into 3 groups: Never purchased, <=10 items, >10 items\n",
        "# to avoid having too many user groups \n",
        "data_comb['purchase_group']=pd.cut(data_comb['user_past_purchases'], bins=[0,1,11,23], include_lowest=True, right=False, labels=['Never_purchased', 'Below_or_equal_10', 'Over_10'])\n",
        "\n",
        "# drop the original numeric variable\n",
        "data_comb = data_comb.drop(labels = 'user_past_purchases',axis = 1)"
      ],
      "execution_count": 42,
      "outputs": []
    },
    {
      "cell_type": "code",
      "metadata": {
        "id": "2o88Mr90XvOR"
      },
      "source": [
        "# remove all duplicates so only the unique user groups with the highest probability of clicking is kept \n",
        "# should have a total of 12 user groups = 4 countries * 3 purchase_groups\n",
        "best_segment = data_comb.drop_duplicates(subset=['user_country_FR', 'user_country_UK', 'user_country_US', \n",
        "                                         'purchase_group']).copy()"
      ],
      "execution_count": 43,
      "outputs": []
    },
    {
      "cell_type": "code",
      "metadata": {
        "colab": {
          "base_uri": "https://localhost:8080/",
          "height": 441
        },
        "id": "xMdaqfCBj_6h",
        "outputId": "df666921-b8a4-4b5b-d178-b205b98b3fda"
      },
      "source": [
        "# This returns the combination of email characteristics for each user group that have best chance of clicking.\n",
        "# Note that users who have never purchased an item seem to always have the lowest chance of clicking, \n",
        "# regardless of where they are located (which may not be very surprising). \n",
        "best_segment.sort_values(by='pred_clicked',ascending=False)"
      ],
      "execution_count": 44,
      "outputs": [
        {
          "output_type": "execute_result",
          "data": {
            "text/html": [
              "<div>\n",
              "<style scoped>\n",
              "    .dataframe tbody tr th:only-of-type {\n",
              "        vertical-align: middle;\n",
              "    }\n",
              "\n",
              "    .dataframe tbody tr th {\n",
              "        vertical-align: top;\n",
              "    }\n",
              "\n",
              "    .dataframe thead th {\n",
              "        text-align: right;\n",
              "    }\n",
              "</style>\n",
              "<table border=\"1\" class=\"dataframe\">\n",
              "  <thead>\n",
              "    <tr style=\"text-align: right;\">\n",
              "      <th></th>\n",
              "      <th>hour</th>\n",
              "      <th>email_text_short_email</th>\n",
              "      <th>email_version_personalized</th>\n",
              "      <th>weekday_Monday</th>\n",
              "      <th>weekday_Saturday</th>\n",
              "      <th>weekday_Sunday</th>\n",
              "      <th>weekday_Thursday</th>\n",
              "      <th>weekday_Tuesday</th>\n",
              "      <th>weekday_Wednesday</th>\n",
              "      <th>user_country_FR</th>\n",
              "      <th>user_country_UK</th>\n",
              "      <th>user_country_US</th>\n",
              "      <th>pred_clicked</th>\n",
              "      <th>purchase_group</th>\n",
              "    </tr>\n",
              "  </thead>\n",
              "  <tbody>\n",
              "    <tr>\n",
              "      <th>14399</th>\n",
              "      <td>12</td>\n",
              "      <td>1</td>\n",
              "      <td>1</td>\n",
              "      <td>0</td>\n",
              "      <td>1</td>\n",
              "      <td>0</td>\n",
              "      <td>0</td>\n",
              "      <td>0</td>\n",
              "      <td>0</td>\n",
              "      <td>0</td>\n",
              "      <td>0</td>\n",
              "      <td>1</td>\n",
              "      <td>0.951077</td>\n",
              "      <td>Below_or_equal_10</td>\n",
              "    </tr>\n",
              "    <tr>\n",
              "      <th>57768</th>\n",
              "      <td>4</td>\n",
              "      <td>0</td>\n",
              "      <td>1</td>\n",
              "      <td>0</td>\n",
              "      <td>0</td>\n",
              "      <td>0</td>\n",
              "      <td>0</td>\n",
              "      <td>0</td>\n",
              "      <td>1</td>\n",
              "      <td>0</td>\n",
              "      <td>0</td>\n",
              "      <td>1</td>\n",
              "      <td>0.946538</td>\n",
              "      <td>Over_10</td>\n",
              "    </tr>\n",
              "    <tr>\n",
              "      <th>3964</th>\n",
              "      <td>8</td>\n",
              "      <td>1</td>\n",
              "      <td>0</td>\n",
              "      <td>0</td>\n",
              "      <td>0</td>\n",
              "      <td>0</td>\n",
              "      <td>0</td>\n",
              "      <td>1</td>\n",
              "      <td>0</td>\n",
              "      <td>0</td>\n",
              "      <td>1</td>\n",
              "      <td>0</td>\n",
              "      <td>0.940000</td>\n",
              "      <td>Below_or_equal_10</td>\n",
              "    </tr>\n",
              "    <tr>\n",
              "      <th>31953</th>\n",
              "      <td>5</td>\n",
              "      <td>1</td>\n",
              "      <td>1</td>\n",
              "      <td>1</td>\n",
              "      <td>0</td>\n",
              "      <td>0</td>\n",
              "      <td>0</td>\n",
              "      <td>0</td>\n",
              "      <td>0</td>\n",
              "      <td>0</td>\n",
              "      <td>1</td>\n",
              "      <td>0</td>\n",
              "      <td>0.829358</td>\n",
              "      <td>Over_10</td>\n",
              "    </tr>\n",
              "    <tr>\n",
              "      <th>35971</th>\n",
              "      <td>15</td>\n",
              "      <td>1</td>\n",
              "      <td>1</td>\n",
              "      <td>0</td>\n",
              "      <td>0</td>\n",
              "      <td>0</td>\n",
              "      <td>0</td>\n",
              "      <td>1</td>\n",
              "      <td>0</td>\n",
              "      <td>0</td>\n",
              "      <td>0</td>\n",
              "      <td>0</td>\n",
              "      <td>0.808454</td>\n",
              "      <td>Below_or_equal_10</td>\n",
              "    </tr>\n",
              "    <tr>\n",
              "      <th>41515</th>\n",
              "      <td>14</td>\n",
              "      <td>1</td>\n",
              "      <td>1</td>\n",
              "      <td>0</td>\n",
              "      <td>0</td>\n",
              "      <td>0</td>\n",
              "      <td>1</td>\n",
              "      <td>0</td>\n",
              "      <td>0</td>\n",
              "      <td>1</td>\n",
              "      <td>0</td>\n",
              "      <td>0</td>\n",
              "      <td>0.740000</td>\n",
              "      <td>Below_or_equal_10</td>\n",
              "    </tr>\n",
              "    <tr>\n",
              "      <th>6811</th>\n",
              "      <td>14</td>\n",
              "      <td>1</td>\n",
              "      <td>0</td>\n",
              "      <td>1</td>\n",
              "      <td>0</td>\n",
              "      <td>0</td>\n",
              "      <td>0</td>\n",
              "      <td>0</td>\n",
              "      <td>0</td>\n",
              "      <td>0</td>\n",
              "      <td>0</td>\n",
              "      <td>0</td>\n",
              "      <td>0.700000</td>\n",
              "      <td>Over_10</td>\n",
              "    </tr>\n",
              "    <tr>\n",
              "      <th>51586</th>\n",
              "      <td>6</td>\n",
              "      <td>0</td>\n",
              "      <td>0</td>\n",
              "      <td>0</td>\n",
              "      <td>0</td>\n",
              "      <td>0</td>\n",
              "      <td>0</td>\n",
              "      <td>0</td>\n",
              "      <td>1</td>\n",
              "      <td>1</td>\n",
              "      <td>0</td>\n",
              "      <td>0</td>\n",
              "      <td>0.660000</td>\n",
              "      <td>Over_10</td>\n",
              "    </tr>\n",
              "    <tr>\n",
              "      <th>3423</th>\n",
              "      <td>13</td>\n",
              "      <td>1</td>\n",
              "      <td>1</td>\n",
              "      <td>0</td>\n",
              "      <td>0</td>\n",
              "      <td>0</td>\n",
              "      <td>0</td>\n",
              "      <td>1</td>\n",
              "      <td>0</td>\n",
              "      <td>0</td>\n",
              "      <td>0</td>\n",
              "      <td>1</td>\n",
              "      <td>0.515967</td>\n",
              "      <td>Never_purchased</td>\n",
              "    </tr>\n",
              "    <tr>\n",
              "      <th>58113</th>\n",
              "      <td>10</td>\n",
              "      <td>1</td>\n",
              "      <td>0</td>\n",
              "      <td>0</td>\n",
              "      <td>0</td>\n",
              "      <td>0</td>\n",
              "      <td>0</td>\n",
              "      <td>1</td>\n",
              "      <td>0</td>\n",
              "      <td>0</td>\n",
              "      <td>0</td>\n",
              "      <td>0</td>\n",
              "      <td>0.092714</td>\n",
              "      <td>Never_purchased</td>\n",
              "    </tr>\n",
              "    <tr>\n",
              "      <th>14064</th>\n",
              "      <td>5</td>\n",
              "      <td>1</td>\n",
              "      <td>0</td>\n",
              "      <td>0</td>\n",
              "      <td>0</td>\n",
              "      <td>1</td>\n",
              "      <td>0</td>\n",
              "      <td>0</td>\n",
              "      <td>0</td>\n",
              "      <td>0</td>\n",
              "      <td>1</td>\n",
              "      <td>0</td>\n",
              "      <td>0.083329</td>\n",
              "      <td>Never_purchased</td>\n",
              "    </tr>\n",
              "    <tr>\n",
              "      <th>43901</th>\n",
              "      <td>8</td>\n",
              "      <td>1</td>\n",
              "      <td>1</td>\n",
              "      <td>0</td>\n",
              "      <td>0</td>\n",
              "      <td>0</td>\n",
              "      <td>1</td>\n",
              "      <td>0</td>\n",
              "      <td>0</td>\n",
              "      <td>1</td>\n",
              "      <td>0</td>\n",
              "      <td>0</td>\n",
              "      <td>0.069521</td>\n",
              "      <td>Never_purchased</td>\n",
              "    </tr>\n",
              "  </tbody>\n",
              "</table>\n",
              "</div>"
            ],
            "text/plain": [
              "       hour  email_text_short_email  email_version_personalized  weekday_Monday  weekday_Saturday  weekday_Sunday  weekday_Thursday  weekday_Tuesday  weekday_Wednesday  user_country_FR  user_country_UK  user_country_US  pred_clicked     purchase_group\n",
              "14399    12                       1                           1               0                 1               0                 0                0                  0                0                0                1      0.951077  Below_or_equal_10\n",
              "57768     4                       0                           1               0                 0               0                 0                0                  1                0                0                1      0.946538            Over_10\n",
              "3964      8                       1                           0               0                 0               0                 0                1                  0                0                1                0      0.940000  Below_or_equal_10\n",
              "31953     5                       1                           1               1                 0               0                 0                0                  0                0                1                0      0.829358            Over_10\n",
              "35971    15                       1                           1               0                 0               0                 0                1                  0                0                0                0      0.808454  Below_or_equal_10\n",
              "41515    14                       1                           1               0                 0               0                 1                0                  0                1                0                0      0.740000  Below_or_equal_10\n",
              "6811     14                       1                           0               1                 0               0                 0                0                  0                0                0                0      0.700000            Over_10\n",
              "51586     6                       0                           0               0                 0               0                 0                0                  1                1                0                0      0.660000            Over_10\n",
              "3423     13                       1                           1               0                 0               0                 0                1                  0                0                0                1      0.515967    Never_purchased\n",
              "58113    10                       1                           0               0                 0               0                 0                1                  0                0                0                0      0.092714    Never_purchased\n",
              "14064     5                       1                           0               0                 0               1                 0                0                  0                0                1                0      0.083329    Never_purchased\n",
              "43901     8                       1                           1               0                 0               0                 1                0                  0                1                0                0      0.069521    Never_purchased"
            ]
          },
          "metadata": {},
          "execution_count": 44
        }
      ]
    },
    {
      "cell_type": "markdown",
      "metadata": {
        "id": "Sa56tFfW2TKk"
      },
      "source": [
        "\n",
        "### To conclude"
      ]
    },
    {
      "cell_type": "markdown",
      "metadata": {
        "id": "8xgs82tAv6aP"
      },
      "source": [
        "Now we have the email campaign strategy for every user group (categoried by their country and number of purchases) that is predicted to have the highest chance of clicking through the email. We can present the results above to the marketing team and recommend sending their email campaigns accordingly. \n",
        "\n",
        "Of course, there's always room to improve our models, by further tuning the parameters or trying other ML algorithms with better performance on such tasks, etc. We did not dive deep into this technical aspect since the focus of this analysis is really to present to audiences a real-world application of how data science can be used to: \n",
        "\n",
        "* providing meaningful insights that help with business decisions,\n",
        "\n",
        "* and generating personalized strategies to drive future improvements or innovations.\n",
        "\n",
        "But feel free to continue from here and explore further if you are interested! "
      ]
    }
  ]
}